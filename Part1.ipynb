{
 "cells": [
  {
   "cell_type": "code",
   "execution_count": 1,
   "id": "85cff696",
   "metadata": {},
   "outputs": [
    {
     "name": "stdout",
     "output_type": "stream",
     "text": [
      "Hello World\n"
     ]
    }
   ],
   "source": [
    "print(\"Hello World\")"
   ]
  },
  {
   "cell_type": "code",
   "execution_count": 2,
   "id": "213277f6",
   "metadata": {},
   "outputs": [
    {
     "name": "stdout",
     "output_type": "stream",
     "text": [
      "The value of a is  10\n"
     ]
    }
   ],
   "source": [
    "a = 10\n",
    "print(\"The value of a is \", a) #python 3"
   ]
  },
  {
   "cell_type": "markdown",
   "id": "5c850348",
   "metadata": {},
   "source": [
    "# Output Formatting"
   ]
  },
  {
   "cell_type": "code",
   "execution_count": 3,
   "id": "96791ad3",
   "metadata": {},
   "outputs": [
    {
     "name": "stdout",
     "output_type": "stream",
     "text": [
      "The value of a is 10 and b is 20\n"
     ]
    }
   ],
   "source": [
    "a = 10; b = 20 # multiple statements in single line\n",
    "print(\"The value of a is {} and b is {}\".format(a, b)) #default"
   ]
  },
  {
   "cell_type": "code",
   "execution_count": 4,
   "id": "e916799e",
   "metadata": {},
   "outputs": [
    {
     "name": "stdout",
     "output_type": "stream",
     "text": [
      "The value of b is 20 and a is 10\n"
     ]
    }
   ],
   "source": [
    "a = 10; b = 20\n",
    "print(\"The value of b is {1} and a is {0}\".format(a, b))"
   ]
  },
  {
   "cell_type": "code",
   "execution_count": 5,
   "id": "7df75fec",
   "metadata": {},
   "outputs": [
    {
     "name": "stdout",
     "output_type": "stream",
     "text": [
      "Hello Shikhar, Good Morning\n"
     ]
    }
   ],
   "source": [
    "print(\"Hello {name}, {greeting}\".format(name=\"Shikhar\", greeting = \"Good Morning\"))"
   ]
  },
  {
   "cell_type": "markdown",
   "id": "5343ed87",
   "metadata": {},
   "source": [
    "# if else"
   ]
  },
  {
   "cell_type": "code",
   "execution_count": 6,
   "id": "bbdcf571",
   "metadata": {},
   "outputs": [
    {
     "name": "stdout",
     "output_type": "stream",
     "text": [
      "Number is positive\n",
      "This will print always\n"
     ]
    }
   ],
   "source": [
    "num = 10\n",
    "if num >=10:\n",
    "    print(\"Number is positive\")\n",
    "    print(\"This will print always\")"
   ]
  },
  {
   "cell_type": "code",
   "execution_count": 7,
   "id": "73ab3e0a",
   "metadata": {},
   "outputs": [
    {
     "name": "stdout",
     "output_type": "stream",
     "text": [
      "Positive number\n"
     ]
    }
   ],
   "source": [
    "num = 10\n",
    "if num > 0:\n",
    "    print(\"Positive number\")\n",
    "else:\n",
    "    print(\"Negative number\")"
   ]
  },
  {
   "cell_type": "code",
   "execution_count": 8,
   "id": "0e556b0c",
   "metadata": {},
   "outputs": [
    {
     "name": "stdout",
     "output_type": "stream",
     "text": [
      "ZERO\n"
     ]
    }
   ],
   "source": [
    "num = 0\n",
    "if num > 0:\n",
    "    print(\"Positive number\")\n",
    "elif num == 0:\n",
    "    print(\"ZERO\")\n",
    "else:\n",
    "    print(\"Negative Number\")"
   ]
  },
  {
   "cell_type": "code",
   "execution_count": 9,
   "id": "39e2f55e",
   "metadata": {},
   "outputs": [
    {
     "name": "stdout",
     "output_type": "stream",
     "text": [
      "Positive number\n"
     ]
    }
   ],
   "source": [
    "#without elif\n",
    "num = 10.5\n",
    "if num >= 0:\n",
    "    if num == 0:\n",
    "        print(\"ZERO\")\n",
    "    else:\n",
    "        print(\"Positive number\")\n",
    "else:\n",
    "    print(\"Negative number\")"
   ]
  },
  {
   "cell_type": "code",
   "execution_count": 10,
   "id": "6cccd90a",
   "metadata": {
    "scrolled": true
   },
   "outputs": [
    {
     "name": "stdout",
     "output_type": "stream",
     "text": [
      "Largest element among three numbers is: 30\n"
     ]
    }
   ],
   "source": [
    "#Python program to find largest element among three no's:\n",
    "num1 = 10\n",
    "num2 = 20\n",
    "num3 = 30\n",
    "\n",
    "if (num1 >= num2) and (num1 >= num3):\n",
    "    largest = num1\n",
    "elif (num2 >= num1) and (num2 >= num3):\n",
    "    largest = num2\n",
    "else:\n",
    "    largest = num3\n",
    "print(\"Largest element among three numbers is: {}\".format(largest))    \n"
   ]
  },
  {
   "cell_type": "markdown",
   "id": "d1067908",
   "metadata": {},
   "source": [
    "# while loop"
   ]
  },
  {
   "cell_type": "code",
   "execution_count": 11,
   "id": "7bda0d99",
   "metadata": {},
   "outputs": [
    {
     "name": "stdout",
     "output_type": "stream",
     "text": [
      "The product is : 12000000\n"
     ]
    }
   ],
   "source": [
    "#Find product of all numbers present in a list\n",
    "myList = [10, 20, 30, 40, 50]\n",
    "\n",
    "product = 1\n",
    "index = 0\n",
    "\n",
    "while index < len(myList):\n",
    "    product *= myList[index]\n",
    "    index += 1\n",
    "\n",
    "print(\"The product is : {}\".format(product))    "
   ]
  },
  {
   "cell_type": "code",
   "execution_count": 12,
   "id": "032837cd",
   "metadata": {},
   "outputs": [
    {
     "name": "stdout",
     "output_type": "stream",
     "text": [
      "1\n",
      "2\n",
      "3\n",
      "4\n",
      "5\n",
      "No items left in the list\n"
     ]
    }
   ],
   "source": [
    "numbers = [1, 2, 3, 4, 5]\n",
    "#iterating over the list\n",
    "\n",
    "index = 0\n",
    "while index < len(numbers):\n",
    "    print(numbers[index])\n",
    "    index += 1\n",
    "else:\n",
    "    print(\"No items left in the list\")"
   ]
  },
  {
   "cell_type": "code",
   "execution_count": 13,
   "id": "0e47b219",
   "metadata": {},
   "outputs": [
    {
     "name": "stdout",
     "output_type": "stream",
     "text": [
      "Enter a number : 256\n",
      "256 is divisible by 2\n",
      "256 is divisible by 4\n",
      "256 is divisible by 8\n",
      "256 is divisible by 16\n",
      "256 is divisible by 32\n",
      "256 is divisible by 64\n",
      "256 is divisible by 128\n",
      "256 is not a prime number\n"
     ]
    }
   ],
   "source": [
    "# Program to check a given number is prime or not\n",
    "\n",
    "num = int(input(\"Enter a number : \"))  # convert String to int\n",
    "\n",
    "isDivisible = False;\n",
    "\n",
    "i = 2;\n",
    "while i < num:\n",
    "    if num % i == 0:\n",
    "        isDivisible = True\n",
    "        print(\"{} is divisible by {}\".format(num, i))\n",
    "    i += 1\n",
    "\n",
    "if isDivisible:\n",
    "    print(\"{} is not a prime number\".format(num))\n",
    "else:\n",
    "    print(\"{} is a prime number\")\n",
    "    \n",
    "    "
   ]
  },
  {
   "cell_type": "markdown",
   "id": "61d2510a",
   "metadata": {},
   "source": [
    "# for loop"
   ]
  },
  {
   "cell_type": "code",
   "execution_count": 14,
   "id": "4fc0b826",
   "metadata": {},
   "outputs": [
    {
     "name": "stdout",
     "output_type": "stream",
     "text": [
      "Product is: 0\n"
     ]
    }
   ],
   "source": [
    "# Find product of all numbers present in the list using for loop\n",
    "myList = [0, 1, 2, 3, 4]\n",
    "\n",
    "product = 1\n",
    "#iterating over the list\n",
    "for ele in myList:\n",
    "    product *= ele\n",
    "    \n",
    "print(\"Product is: {}\".format(product))    "
   ]
  },
  {
   "cell_type": "markdown",
   "id": "ca4a78a9",
   "metadata": {},
   "source": [
    "# range function"
   ]
  },
  {
   "cell_type": "code",
   "execution_count": 15,
   "id": "92867f2d",
   "metadata": {},
   "outputs": [
    {
     "name": "stdout",
     "output_type": "stream",
     "text": [
      "0\n",
      "1\n",
      "2\n",
      "3\n",
      "4\n",
      "5\n",
      "6\n",
      "7\n",
      "8\n",
      "9\n"
     ]
    }
   ],
   "source": [
    "for i in range(10):\n",
    "    print(i)"
   ]
  },
  {
   "cell_type": "code",
   "execution_count": 16,
   "id": "5f491fbf",
   "metadata": {},
   "outputs": [
    {
     "name": "stdout",
     "output_type": "stream",
     "text": [
      "0\n",
      "2\n",
      "4\n",
      "6\n",
      "8\n",
      "10\n",
      "12\n",
      "14\n",
      "16\n",
      "18\n"
     ]
    }
   ],
   "source": [
    "# print range of function from 1 to 20 with step size of 2\n",
    "for i in range(0, 20, 2):\n",
    "    print(i)"
   ]
  },
  {
   "cell_type": "code",
   "execution_count": 17,
   "id": "c92b427a",
   "metadata": {},
   "outputs": [
    {
     "name": "stdout",
     "output_type": "stream",
     "text": [
      "Shikhar\n",
      "Shreya\n",
      "Sooraj\n",
      "Sristy\n",
      "Umesh\n"
     ]
    }
   ],
   "source": [
    "myList = [\"Shikhar\", \"Shreya\", \"Sooraj\", \"Sristy\", \"Umesh\"]\n",
    "#iterate over the list using index\n",
    "\n",
    "# for ele in myList:\n",
    "#     print(ele)\n",
    "\n",
    "#using range\n",
    "for index in range(len(myList)):\n",
    "    print(myList[index])"
   ]
  },
  {
   "cell_type": "markdown",
   "id": "9c136cab",
   "metadata": {},
   "source": [
    "# for loop with else"
   ]
  },
  {
   "cell_type": "code",
   "execution_count": 18,
   "id": "2391bba0",
   "metadata": {},
   "outputs": [
    {
     "name": "stdout",
     "output_type": "stream",
     "text": [
      "1\n",
      "2\n",
      "3\n",
      "no item left in the list\n"
     ]
    }
   ],
   "source": [
    "numbers = [1, 2, 3]\n",
    "#iterating over the list\n",
    "for item in numbers:\n",
    "    print(item)\n",
    "else:\n",
    "    print(\"no item left in the list\")    "
   ]
  },
  {
   "cell_type": "markdown",
   "id": "7e9d6e08",
   "metadata": {},
   "source": [
    "# Python break and continue statements"
   ]
  },
  {
   "cell_type": "code",
   "execution_count": 19,
   "id": "841fdef6",
   "metadata": {},
   "outputs": [
    {
     "name": "stdout",
     "output_type": "stream",
     "text": [
      "1\n",
      "2\n"
     ]
    }
   ],
   "source": [
    "for item in numbers:\n",
    "    print(item)\n",
    "    if item % 2 == 0:\n",
    "        break\n",
    "else:\n",
    "    print(\"no item left in the List\")"
   ]
  },
  {
   "cell_type": "code",
   "execution_count": 20,
   "id": "23cfac0c",
   "metadata": {},
   "outputs": [
    {
     "name": "stdout",
     "output_type": "stream",
     "text": [
      "Prime numbers between 10 and 50 are: \n",
      "11\n",
      "13\n",
      "17\n",
      "19\n",
      "23\n",
      "29\n",
      "31\n",
      "37\n",
      "41\n",
      "43\n",
      "47\n"
     ]
    }
   ],
   "source": [
    "#Python program to display all prime numbers within an interval\n",
    "\n",
    "index1 = 10\n",
    "index2 = 50\n",
    "\n",
    "print(\"Prime numbers between {0} and {1} are: \".format(index1, index2))\n",
    "\n",
    "for num in range(index1, index2+1):\n",
    "    if num >1:\n",
    "        isDivisible = False\n",
    "        for index in range(2, num):\n",
    "            if num % index == 0:\n",
    "                isDivisible = True\n",
    "        if not isDivisible:\n",
    "            print(num)"
   ]
  },
  {
   "cell_type": "code",
   "execution_count": 21,
   "id": "91b93a65",
   "metadata": {},
   "outputs": [
    {
     "name": "stdout",
     "output_type": "stream",
     "text": [
      "1\n",
      "2\n",
      "3\n",
      "Outside of for loop\n"
     ]
    }
   ],
   "source": [
    "numbers = [1, 2, 3, 4]\n",
    "for num in numbers:        # iterating over the list\n",
    "    if num == 4:\n",
    "        break\n",
    "    print(num)\n",
    "else:\n",
    "    print(\"in the else block\")\n",
    "print(\"Outside of for loop\")    "
   ]
  },
  {
   "cell_type": "code",
   "execution_count": 22,
   "id": "0aeb1038",
   "metadata": {},
   "outputs": [
    {
     "name": "stdout",
     "output_type": "stream",
     "text": [
      "Enter a number : 256\n",
      "256 is divisible by 2\n",
      "256 is not a prime number\n"
     ]
    }
   ],
   "source": [
    "#Program to check wheather the number is prime is not\n",
    "\n",
    "\n",
    "num = int(input(\"Enter a number : \"))  # convert String to int\n",
    "\n",
    "isDivisible = False;\n",
    "\n",
    "i = 2;\n",
    "while i < num:\n",
    "    if num % i == 0:\n",
    "        isDivisible = True\n",
    "        print(\"{} is divisible by {}\".format(num, i))\n",
    "        break\n",
    "    i += 1\n",
    "\n",
    "if isDivisible:\n",
    "    print(\"{} is not a prime number\".format(num))\n",
    "else:\n",
    "    print(\"{} is a prime number\".format(num))"
   ]
  },
  {
   "cell_type": "markdown",
   "id": "e1b75dcb",
   "metadata": {},
   "source": [
    "# Python Continue Statements"
   ]
  },
  {
   "cell_type": "code",
   "execution_count": 23,
   "id": "1d51f2d9",
   "metadata": {},
   "outputs": [
    {
     "name": "stdout",
     "output_type": "stream",
     "text": [
      "1\n",
      "3\n",
      "5\n",
      "else-block\n"
     ]
    }
   ],
   "source": [
    "#Print odd numbers in a list\n",
    "\n",
    "numbers = {1, 2, 3, 4, 5}\n",
    "\n",
    "for num in numbers:\n",
    "    if num % 2 == 0:\n",
    "        continue\n",
    "    print(num)\n",
    "else:\n",
    "    print(\"else-block\")"
   ]
  },
  {
   "cell_type": "code",
   "execution_count": null,
   "id": "25ee3cd6",
   "metadata": {},
   "outputs": [],
   "source": []
  }
 ],
 "metadata": {
  "kernelspec": {
   "display_name": "Python 3 (ipykernel)",
   "language": "python",
   "name": "python3"
  },
  "language_info": {
   "codemirror_mode": {
    "name": "ipython",
    "version": 3
   },
   "file_extension": ".py",
   "mimetype": "text/x-python",
   "name": "python",
   "nbconvert_exporter": "python",
   "pygments_lexer": "ipython3",
   "version": "3.8.8"
  }
 },
 "nbformat": 4,
 "nbformat_minor": 5
}
